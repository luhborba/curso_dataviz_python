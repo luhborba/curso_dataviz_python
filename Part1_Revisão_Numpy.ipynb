{
  "nbformat": 4,
  "nbformat_minor": 0,
  "metadata": {
    "colab": {
      "provenance": [],
      "authorship_tag": "ABX9TyPvXkjzmxixos1CHOKLrJAN",
      "include_colab_link": true
    },
    "kernelspec": {
      "name": "python3",
      "display_name": "Python 3"
    },
    "language_info": {
      "name": "python"
    }
  },
  "cells": [
    {
      "cell_type": "markdown",
      "metadata": {
        "id": "view-in-github",
        "colab_type": "text"
      },
      "source": [
        "<a href=\"https://colab.research.google.com/github/luhborba/curso_dataviz_python/blob/main/Part1_Revis%C3%A3o_Numpy.ipynb\" target=\"_parent\"><img src=\"https://colab.research.google.com/assets/colab-badge.svg\" alt=\"Open In Colab\"/></a>"
      ]
    },
    {
      "cell_type": "markdown",
      "source": [
        "## Este notebook faz referência ao curso de Data Visualization com Python: biblioteca Plotly, disponível na Udemy\n",
        "\n",
        "Link do Curso: https://www.udemy.com/course/data-visualization-com-python-biblioteca-plotly/"
      ],
      "metadata": {
        "id": "clqy6QyjZOZ0"
      }
    },
    {
      "cell_type": "markdown",
      "source": [
        "### Etapa 1: Revisão Numpy"
      ],
      "metadata": {
        "id": "3qC59a9pZl60"
      }
    },
    {
      "cell_type": "code",
      "execution_count": 1,
      "metadata": {
        "id": "dlaffxLjWmKG"
      },
      "outputs": [],
      "source": [
        "import numpy as np"
      ]
    },
    {
      "cell_type": "code",
      "source": [
        "vetor = np.array([9,2,3,4,5])"
      ],
      "metadata": {
        "id": "eclXboCPZxH9"
      },
      "execution_count": 2,
      "outputs": []
    },
    {
      "cell_type": "code",
      "source": [
        "vetor"
      ],
      "metadata": {
        "colab": {
          "base_uri": "https://localhost:8080/"
        },
        "id": "Nuk8P_d4ca4V",
        "outputId": "1df673fe-8fbc-4fbd-e11b-1ba5df78e68b"
      },
      "execution_count": 3,
      "outputs": [
        {
          "output_type": "execute_result",
          "data": {
            "text/plain": [
              "array([9, 2, 3, 4, 5])"
            ]
          },
          "metadata": {},
          "execution_count": 3
        }
      ]
    },
    {
      "cell_type": "code",
      "source": [
        "#Verificando o tipo de objeto\n",
        "#type(vetor)\n",
        "#Verificando as funções disponíveis.\n",
        "#dir(vetor)"
      ],
      "metadata": {
        "id": "pnph-H1ccb0r"
      },
      "execution_count": 8,
      "outputs": []
    },
    {
      "cell_type": "code",
      "source": [
        "#Verificando tamanho do vetor\n",
        "vetor.shape"
      ],
      "metadata": {
        "colab": {
          "base_uri": "https://localhost:8080/"
        },
        "id": "rT20X9Egcdh7",
        "outputId": "d1132259-7678-46f3-e6d8-e82e1f0fc8eb"
      },
      "execution_count": 23,
      "outputs": [
        {
          "output_type": "execute_result",
          "data": {
            "text/plain": [
              "(5,)"
            ]
          },
          "metadata": {},
          "execution_count": 23
        }
      ]
    },
    {
      "cell_type": "code",
      "source": [
        "#Verificando tamanho do vetor\n",
        "vetor.size"
      ],
      "metadata": {
        "colab": {
          "base_uri": "https://localhost:8080/"
        },
        "id": "uRkIeEAEcg6a",
        "outputId": "c2c4ad75-9c0e-49f8-a917-2106610d9cef"
      },
      "execution_count": 24,
      "outputs": [
        {
          "output_type": "execute_result",
          "data": {
            "text/plain": [
              "5"
            ]
          },
          "metadata": {},
          "execution_count": 24
        }
      ]
    },
    {
      "cell_type": "code",
      "source": [
        "#Verificando tipo do vetor\n",
        "vetor.dtype"
      ],
      "metadata": {
        "colab": {
          "base_uri": "https://localhost:8080/"
        },
        "id": "HmT4AZIpdHoM",
        "outputId": "311b4048-7b7c-4a1f-fab2-1cf0c5906c94"
      },
      "execution_count": 25,
      "outputs": [
        {
          "output_type": "execute_result",
          "data": {
            "text/plain": [
              "dtype('int64')"
            ]
          },
          "metadata": {},
          "execution_count": 25
        }
      ]
    },
    {
      "cell_type": "code",
      "source": [
        "#Criando uma Matriz\n",
        "matrix = np.array([[1,3,4],[4,5,6],[1,2,3]])\n",
        "matrix"
      ],
      "metadata": {
        "colab": {
          "base_uri": "https://localhost:8080/"
        },
        "id": "XS7-89E0dJEz",
        "outputId": "95303dd5-d0cd-44f4-c50f-ac9c71858b9a"
      },
      "execution_count": 26,
      "outputs": [
        {
          "output_type": "execute_result",
          "data": {
            "text/plain": [
              "array([[1, 3, 4],\n",
              "       [4, 5, 6],\n",
              "       [1, 2, 3]])"
            ]
          },
          "metadata": {},
          "execution_count": 26
        }
      ]
    },
    {
      "cell_type": "code",
      "source": [
        "#Soma de Matrix\n",
        "matrix1 =  np.array([[1,3,4],[4,5,6],[1,2,3]])\n",
        "matrix2 =  np.array([[2,1,0],[5,7,11],[12,13,0]])\n",
        "matrix1+matrix2"
      ],
      "metadata": {
        "colab": {
          "base_uri": "https://localhost:8080/"
        },
        "id": "AFseEouedREs",
        "outputId": "eb89f172-fce5-49f6-c219-6fbbcc5ecfba"
      },
      "execution_count": 27,
      "outputs": [
        {
          "output_type": "execute_result",
          "data": {
            "text/plain": [
              "array([[ 3,  4,  4],\n",
              "       [ 9, 12, 17],\n",
              "       [13, 15,  3]])"
            ]
          },
          "metadata": {},
          "execution_count": 27
        }
      ]
    },
    {
      "cell_type": "code",
      "source": [
        "#Multiplicação de Matriz\n",
        "constante = 4\n",
        "constante*matrix1"
      ],
      "metadata": {
        "colab": {
          "base_uri": "https://localhost:8080/"
        },
        "id": "cWbp3xq7dqq0",
        "outputId": "829655cd-1a13-4251-db6b-f86e186e5ffd"
      },
      "execution_count": 15,
      "outputs": [
        {
          "output_type": "execute_result",
          "data": {
            "text/plain": [
              "array([[ 4, 12, 16],\n",
              "       [16, 20, 24],\n",
              "       [ 4,  8, 12]])"
            ]
          },
          "metadata": {},
          "execution_count": 15
        }
      ]
    },
    {
      "cell_type": "code",
      "source": [
        "#Multiplicação de Matriz\n",
        "np.dot(matrix1,matrix2)"
      ],
      "metadata": {
        "colab": {
          "base_uri": "https://localhost:8080/"
        },
        "id": "CjO40X3Gdu7z",
        "outputId": "776de42e-0f60-4672-edfc-1839d54c95c1"
      },
      "execution_count": 16,
      "outputs": [
        {
          "output_type": "execute_result",
          "data": {
            "text/plain": [
              "array([[ 65,  74,  33],\n",
              "       [105, 117,  55],\n",
              "       [ 48,  54,  22]])"
            ]
          },
          "metadata": {},
          "execution_count": 16
        }
      ]
    },
    {
      "cell_type": "code",
      "source": [
        "#Criando Matriz com Zeros\n",
        "np.zeros(shape=(3,3))"
      ],
      "metadata": {
        "colab": {
          "base_uri": "https://localhost:8080/"
        },
        "id": "qygsn95mdyhK",
        "outputId": "db98a3ff-05ab-4d19-868f-5c065243bbe2"
      },
      "execution_count": 17,
      "outputs": [
        {
          "output_type": "execute_result",
          "data": {
            "text/plain": [
              "array([[0., 0., 0.],\n",
              "       [0., 0., 0.],\n",
              "       [0., 0., 0.]])"
            ]
          },
          "metadata": {},
          "execution_count": 17
        }
      ]
    },
    {
      "cell_type": "code",
      "source": [
        "#Criando Array com Zeros\n",
        "np.zeros(shape=10)"
      ],
      "metadata": {
        "colab": {
          "base_uri": "https://localhost:8080/"
        },
        "id": "5Ckz04Y8eRjz",
        "outputId": "faa012d4-d24c-480e-a9e3-02c898c93973"
      },
      "execution_count": 19,
      "outputs": [
        {
          "output_type": "execute_result",
          "data": {
            "text/plain": [
              "array([0., 0., 0., 0., 0., 0., 0., 0., 0., 0.])"
            ]
          },
          "metadata": {},
          "execution_count": 19
        }
      ]
    },
    {
      "cell_type": "code",
      "source": [
        "#Criando Matriz Identidade\n",
        "np.identity(3)"
      ],
      "metadata": {
        "colab": {
          "base_uri": "https://localhost:8080/"
        },
        "id": "kT_-fBR8eV0T",
        "outputId": "8998bad2-8199-4cc7-e991-315d5a7e626d"
      },
      "execution_count": 28,
      "outputs": [
        {
          "output_type": "execute_result",
          "data": {
            "text/plain": [
              "array([[1., 0., 0.],\n",
              "       [0., 1., 0.],\n",
              "       [0., 0., 1.]])"
            ]
          },
          "metadata": {},
          "execution_count": 28
        }
      ]
    },
    {
      "cell_type": "code",
      "source": [
        "#Criando um vetor com números Aleatórios\n",
        "vetor = np.random.randint(50,2000,100)\n",
        "vetor"
      ],
      "metadata": {
        "colab": {
          "base_uri": "https://localhost:8080/"
        },
        "id": "HHCxURzmeYAr",
        "outputId": "397114d7-7887-447c-bd5d-9e91b6d3c015"
      },
      "execution_count": 30,
      "outputs": [
        {
          "output_type": "execute_result",
          "data": {
            "text/plain": [
              "array([1396, 1720,  362,  271,  769,  183, 1658, 1647,  907,  940,  347,\n",
              "        520, 1812, 1186, 1925, 1010,  600, 1321, 1372,  619, 1467, 1569,\n",
              "        114, 1129,  246, 1770,  479, 1154, 1927,  287,  258, 1462, 1784,\n",
              "        733, 1603,  625,  666, 1865,  331, 1453, 1859, 1482, 1522,  535,\n",
              "        534,  500,  695,  996, 1001, 1482, 1580,  175,   63,  992, 1196,\n",
              "        679,  727,  182, 1531, 1963, 1014,  451,  210,  946, 1038,  940,\n",
              "       1852, 1516, 1523,  102,  155, 1398, 1302, 1314, 1771, 1753,  851,\n",
              "       1549,  243, 1823, 1546, 1463,  177, 1839, 1496, 1384,  718,   68,\n",
              "        351, 1348, 1112, 1576,  621, 1840, 1294, 1301,  503, 1152, 1442,\n",
              "       1470])"
            ]
          },
          "metadata": {},
          "execution_count": 30
        }
      ]
    },
    {
      "cell_type": "code",
      "source": [
        "# Calculando Menor Valor, Maior Valor, Média, Desvio padrão e tamanho.\n",
        "menor = vetor.min()\n",
        "maior = vetor.max()\n",
        "media = vetor.mean()\n",
        "desvio = vetor.std()\n",
        "tamanho = vetor.size\n",
        "\n",
        "print(f'O menor número dentro do Vetor é de {menor}')\n",
        "print(f'O maior número dentro do Vetor é de {maior}')\n",
        "print(f'A média deste vetor é de {media}')\n",
        "print(f'O desvio padrão é de {desvio:.2f}')\n",
        "print(f'O tamanho deste vetor é de {tamanho}')"
      ],
      "metadata": {
        "colab": {
          "base_uri": "https://localhost:8080/"
        },
        "id": "O0kAbNUQnP4i",
        "outputId": "99b23ee3-d6c1-409c-b26b-9f4768cbad3b"
      },
      "execution_count": 40,
      "outputs": [
        {
          "output_type": "stream",
          "name": "stdout",
          "text": [
            "O menor número dentro do Vetor é de 63\n",
            "O maior número dentro do Vetor é de 1963\n",
            "A média deste vetor é de 1056.33\n",
            "O desvio padrão é de 566.99\n",
            "O tamanho deste vetor é de 100\n"
          ]
        }
      ]
    },
    {
      "cell_type": "code",
      "source": [
        "#Criando Vetor com dados randomizados com dados mais definidos\n",
        "vetor = np.random.normal(10, 0.5, 10000)\n",
        "vetor"
      ],
      "metadata": {
        "colab": {
          "base_uri": "https://localhost:8080/"
        },
        "id": "u_0B03AQnRli",
        "outputId": "7c0213b4-8bbf-409e-f7e3-7d6ab153a19e"
      },
      "execution_count": 42,
      "outputs": [
        {
          "output_type": "execute_result",
          "data": {
            "text/plain": [
              "array([ 9.56583615,  9.71837989,  9.93833013, ...,  9.04527448,\n",
              "       10.73004904, 10.85319976])"
            ]
          },
          "metadata": {},
          "execution_count": 42
        }
      ]
    },
    {
      "cell_type": "code",
      "source": [
        "#Importando Matplotlib para visualização\n",
        "import matplotlib.pyplot as plt"
      ],
      "metadata": {
        "id": "OWZwqMcIpIcb"
      },
      "execution_count": 43,
      "outputs": []
    },
    {
      "cell_type": "code",
      "source": [
        "#Plotando um grafíco de linhas\n",
        "plt.plot(vetor)\n",
        "plt.show()"
      ],
      "metadata": {
        "colab": {
          "base_uri": "https://localhost:8080/",
          "height": 430
        },
        "id": "EJag8f3JpRuD",
        "outputId": "e759c4c1-0edb-446d-fbf2-d53dcf434545"
      },
      "execution_count": 44,
      "outputs": [
        {
          "output_type": "display_data",
          "data": {
            "text/plain": [
              "<Figure size 640x480 with 1 Axes>"
            ],
            "image/png": "[encoded data removed]"
          },
          "metadata": {}
        }
      ]
    },
    {
      "cell_type": "code",
      "source": [
        "#Importando Seaborn para visualização\n",
        "import seaborn as sns"
      ],
      "metadata": {
        "id": "GPTaaWnnpVfK"
      },
      "execution_count": 45,
      "outputs": []
    },
    {
      "cell_type": "code",
      "source": [
        "#Plotando um grafíco de histograma\n",
        "sns.histplot(vetor)"
      ],
      "metadata": {
        "colab": {
          "base_uri": "https://localhost:8080/",
          "height": 447
        },
        "id": "Kp8w2RXSpdyr",
        "outputId": "c53edde8-d553-4ea9-f724-c15ec8abf3b3"
      },
      "execution_count": 50,
      "outputs": [
        {
          "output_type": "execute_result",
          "data": {
            "text/plain": [
              "<Axes: ylabel='Count'>"
            ]
          },
          "metadata": {},
          "execution_count": 50
        },
        {
          "output_type": "display_data",
          "data": {
            "text/plain": [
              "<Figure size 640x480 with 1 Axes>"
            ],
            "image/png": "[encoded data removed]"
          },
          "metadata": {}
        }
      ]
    },
    {
      "cell_type": "code",
      "source": [
        "#Exemplo de criação de matrix usando o random.normal\n",
        "matrix = np.random.normal(10,2.5, size = (4,3))\n",
        "matrix"
      ],
      "metadata": {
        "colab": {
          "base_uri": "https://localhost:8080/"
        },
        "id": "gxLvi7AQphvL",
        "outputId": "2cd4f297-0442-458a-f0dc-ae9e90b07547"
      },
      "execution_count": 51,
      "outputs": [
        {
          "output_type": "execute_result",
          "data": {
            "text/plain": [
              "array([[ 7.95577551,  9.83629128,  6.80714365],\n",
              "       [ 8.05485082,  9.68776174, 11.66365941],\n",
              "       [ 8.04178282,  9.96944227, 10.51072497],\n",
              "       [ 9.47223599, 12.17119585,  7.75812861]])"
            ]
          },
          "metadata": {},
          "execution_count": 51
        }
      ]
    }
  ]
}